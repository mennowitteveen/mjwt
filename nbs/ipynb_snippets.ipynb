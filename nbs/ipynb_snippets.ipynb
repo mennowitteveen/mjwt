{
 "cells": [
  {
   "cell_type": "code",
   "execution_count": null,
   "id": "321052f0",
   "metadata": {},
   "outputs": [],
   "source": []
  },
  {
   "cell_type": "code",
   "execution_count": null,
   "id": "a4de01ae",
   "metadata": {},
   "outputs": [],
   "source": []
  },
  {
   "cell_type": "code",
   "execution_count": null,
   "id": "abf940c3",
   "metadata": {},
   "outputs": [],
   "source": []
  },
  {
   "cell_type": "code",
   "execution_count": null,
   "id": "eab31547",
   "metadata": {},
   "outputs": [
    {
     "name": "stdout",
     "output_type": "stream",
     "text": [
      "stuff\n"
     ]
    }
   ],
   "source": [
    "import numpy\n",
    "print('stuff')"
   ]
  },
  {
   "cell_type": "code",
   "execution_count": null,
   "id": "22a6039b",
   "metadata": {},
   "outputs": [],
   "source": []
  },
  {
   "cell_type": "markdown",
   "id": "f17887b9",
   "metadata": {},
   "source": [
    "Oke this is a bunch of test text"
   ]
  },
  {
   "cell_type": "code",
   "execution_count": null,
   "id": "bb75f1b6",
   "metadata": {},
   "outputs": [],
   "source": []
  },
  {
   "cell_type": "code",
   "execution_count": null,
   "id": "f1fbd8d0",
   "metadata": {},
   "outputs": [],
   "source": []
  }
 ],
 "metadata": {
  "kernelspec": {
   "display_name": "python3",
   "language": "python",
   "name": "python3"
  }
 },
 "nbformat": 4,
 "nbformat_minor": 5
}
