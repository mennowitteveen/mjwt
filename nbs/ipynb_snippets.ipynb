{
 "cells": [
  {
   "cell_type": "code",
   "execution_count": null,
   "id": "f004c43a",
   "metadata": {},
   "outputs": [],
   "source": []
  },
  {
   "cell_type": "code",
   "execution_count": null,
   "id": "f74195d6",
   "metadata": {},
   "outputs": [],
   "source": []
  },
  {
   "cell_type": "markdown",
   "id": "747d0515",
   "metadata": {},
   "source": [
    "# ipynb_snippets\n",
    "> This notebook & webpage (depending on how you're access it) contains a quick reference for python code to do various things. See the legend on the right to jump to a section.\n"
   ]
  },
  {
   "cell_type": "code",
   "execution_count": null,
   "id": "7539ca06",
   "metadata": {},
   "outputs": [],
   "source": []
  },
  {
   "cell_type": "markdown",
   "id": "187d6202",
   "metadata": {},
   "source": [
    "## Some brief notes:\n",
    "\n",
    "- [Hamel's blog for inspiration](https://hamel.dev/notes/linux/bash_scripting.html)"
   ]
  },
  {
   "cell_type": "markdown",
   "id": "d4efbad1",
   "metadata": {},
   "source": [
    "Oke this is a bunch of test text"
   ]
  },
  {
   "cell_type": "markdown",
   "id": "130ec20e",
   "metadata": {},
   "source": [
    "# A level-1 title"
   ]
  },
  {
   "cell_type": "markdown",
   "id": "5f663f50",
   "metadata": {},
   "source": [
    "## A text 2 title"
   ]
  },
  {
   "cell_type": "code",
   "execution_count": null,
   "id": "e4f4e20a",
   "metadata": {},
   "outputs": [],
   "source": []
  },
  {
   "cell_type": "markdown",
   "id": "1dd80872",
   "metadata": {},
   "source": [
    "kjegrjkegr text text textkjegrjkegr text text textkjegrjkegr text text textkjegrjkegr text text text"
   ]
  },
  {
   "cell_type": "code",
   "execution_count": null,
   "id": "c1706c2d",
   "metadata": {},
   "outputs": [],
   "source": []
  },
  {
   "cell_type": "markdown",
   "id": "fa934cd4",
   "metadata": {},
   "source": [
    "### level 3 thing"
   ]
  },
  {
   "cell_type": "code",
   "execution_count": null,
   "id": "6bb84fe4",
   "metadata": {},
   "outputs": [],
   "source": []
  },
  {
   "cell_type": "markdown",
   "id": "c22bf7d7",
   "metadata": {},
   "source": [
    "kjegrjkegr text text textkjegrjkegr te"
   ]
  },
  {
   "cell_type": "markdown",
   "id": "a3a2c3fc",
   "metadata": {},
   "source": [
    "#### A level 4 thing"
   ]
  },
  {
   "cell_type": "code",
   "execution_count": null,
   "id": "862f7fd2",
   "metadata": {},
   "outputs": [],
   "source": []
  },
  {
   "cell_type": "code",
   "execution_count": null,
   "id": "7e9f4ba3",
   "metadata": {},
   "outputs": [],
   "source": []
  },
  {
   "cell_type": "markdown",
   "id": "cb462b24",
   "metadata": {},
   "source": [
    "kjegrjkegr text text textkjegrjkegr text text textkjegrjkegr text text textkjegrjkegr text text text"
   ]
  },
  {
   "cell_type": "code",
   "execution_count": null,
   "id": "8f4ac521",
   "metadata": {},
   "outputs": [],
   "source": []
  },
  {
   "cell_type": "markdown",
   "id": "e904d800",
   "metadata": {},
   "source": [
    "### level 3 thing -2"
   ]
  },
  {
   "cell_type": "code",
   "execution_count": null,
   "id": "a33ba010",
   "metadata": {},
   "outputs": [],
   "source": []
  },
  {
   "cell_type": "code",
   "execution_count": null,
   "id": "b545e3bb",
   "metadata": {},
   "outputs": [],
   "source": []
  },
  {
   "cell_type": "markdown",
   "id": "5de83d2e",
   "metadata": {},
   "source": [
    "text text textkjegrjkegr text text textkjegrjkegr text text tex\n"
   ]
  },
  {
   "cell_type": "code",
   "execution_count": null,
   "id": "d78f4ccc",
   "metadata": {},
   "outputs": [],
   "source": []
  }
 ],
 "metadata": {
  "kernelspec": {
   "display_name": "python3",
   "language": "python",
   "name": "python3"
  }
 },
 "nbformat": 4,
 "nbformat_minor": 5
}
