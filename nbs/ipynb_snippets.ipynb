{
 "cells": [
  {
   "cell_type": "code",
   "execution_count": null,
   "id": "e92653ca",
   "metadata": {},
   "outputs": [],
   "source": []
  },
  {
   "cell_type": "code",
   "execution_count": null,
   "id": "b85a7c4d",
   "metadata": {},
   "outputs": [],
   "source": []
  },
  {
   "cell_type": "markdown",
   "id": "fa95de26",
   "metadata": {},
   "source": [
    "# ipynb_snippets\n",
    "> This notebook & webpage (depending on how you're access it) contains a quick reference for python code to do various things. See the legend on the right to jump to a section.\n",
    "- skip_exec: true"
   ]
  },
  {
   "cell_type": "code",
   "execution_count": null,
   "id": "9aff64c3",
   "metadata": {},
   "outputs": [],
   "source": []
  },
  {
   "cell_type": "markdown",
   "id": "6da4ea43",
   "metadata": {},
   "source": [
    "## Some brief notes:\n",
    "\n",
    "- [Hamel's blog for inspiration](https://hamel.dev/notes/linux/bash_scripting.html)\n",
    "- some person's homepage https://www.mm218.dev/"
   ]
  },
  {
   "cell_type": "markdown",
   "id": "bb10c118",
   "metadata": {},
   "source": [
    "Oke this is a bunch of test text"
   ]
  },
  {
   "cell_type": "code",
   "execution_count": null,
   "id": "c3fb6949",
   "metadata": {},
   "outputs": [],
   "source": []
  },
  {
   "cell_type": "code",
   "execution_count": null,
   "id": "c94da41c",
   "metadata": {},
   "outputs": [],
   "source": []
  },
  {
   "cell_type": "markdown",
   "id": "b8bb0d3f",
   "metadata": {},
   "source": [
    "## Todo dump:\n",
    "\n",
    "- pd.set_option('display.float_format', lambda x: '%.3f' % x)"
   ]
  },
  {
   "cell_type": "code",
   "execution_count": null,
   "id": "39b49a43",
   "metadata": {},
   "outputs": [],
   "source": []
  },
  {
   "cell_type": "code",
   "execution_count": null,
   "id": "f68ce2b3",
   "metadata": {},
   "outputs": [],
   "source": [
    "# Update the req. file for docker\n",
    "!pip freeze > /home/jovyan/proj/docker/jupyter-base-ds/requirements.txt\n",
    "!git config --global user.email \"\" \n",
    "!git config --global user.name  \"Menno Witteveen\"\n",
    "!git -C /home/jovyan/proj/docker/jupyter-compbio-ds/ add requirements.txt\n",
    "# !git -C /home/jovyan/proj/docker/jupyter-base-ds/ status\n",
    "!git -C /home/jovyan/proj/docker/jupyter-compbio-ds/ commit -m \"update req.txt with line_profiler\""
   ]
  },
  {
   "cell_type": "code",
   "execution_count": null,
   "id": "4e68d3a7",
   "metadata": {},
   "outputs": [],
   "source": []
  },
  {
   "cell_type": "markdown",
   "id": "c7afc5d1",
   "metadata": {},
   "source": [
    "## Base Imports"
   ]
  },
  {
   "cell_type": "code",
   "execution_count": null,
   "id": "f223391f",
   "metadata": {},
   "outputs": [],
   "source": []
  },
  {
   "cell_type": "code",
   "execution_count": null,
   "id": "fabf7250",
   "metadata": {},
   "outputs": [],
   "source": [
    "%config Completer.use_jedi = False\n",
    "########################################################\n",
    "## Base Imports:\n",
    "\n",
    "# Sys Imports:\n",
    "import time, sys, os\n",
    "\n",
    "# Standard Imports:\n",
    "import numpy as np\n",
    "import scipy as sp\n",
    "import pandas as pd\n",
    "import seaborn as sns\n",
    "import matplotlib.pyplot as plt\n",
    "from scipy import stats, linalg\n",
    "\n",
    "#########################################################\n",
    "## Experiment Specific Imports\n",
    "\n",
    "# Logistics Imports:\n",
    "import inspect, glob, re, contextlib, pickle, functools #,submitit #pyreadr\n",
    "from tqdm.auto import tqdm\n",
    "from concurrent.futures import ThreadPoolExecutor, ProcessPoolExecutor\n",
    "from mjwt.utils import jobinfo, corr, implot, sizegb, psrc, beep, Timer, Struct as mStruct\n",
    "\n",
    "# ML Imports:\n",
    "from sklearn.metrics import r2_score, roc_auc_score\n",
    "from sklearn.model_selection import train_test_split, ParameterGrid\n",
    "from scipy.stats import pearsonr, spearmanr\n",
    "\n",
    "# Genomics Imports:\n",
    "import pysnptools as pst\n",
    "from pysnptools.snpreader import Bed, Pheno, SnpHdf5, SnpData\n",
    "from pysnptools.pstreader import PstData, PstHdf5, PstReader\n",
    "from lambdapred.utils import load_bimfam\n",
    "\n",
    "########################################################\n",
    "## Configuration & Initialisation\n",
    "\n",
    "# Display Configuration:\n",
    "from IPython.display import set_matplotlib_formats, display #, HTML, Audio, Javascript\n",
    "plt.rcParams['figure.figsize'] = [10, 5]\n",
    "pd.set_option('max_colwidth', 200) \n",
    "# pd.set_option('display.max_colwidth', None) # No pd trunkation (radical)\n",
    "# display(HTML(\"<style>.container { width:75% !important; }</style>\"))\n",
    "# pd.reset_option('all')\n",
    "\n",
    "# Initializations & Extensions:\n",
    "timer = Timer(); toc = timer.toc; tic = timer.tic; tic(''); log=np.log10\n",
    "notebook = False  if '__file__' in locals() else True\n",
    "with contextlib.suppress(BaseException): # non-essential import for development.\n",
    "    get_ipython().run_line_magic('load_ext', 'line_profiler')"
   ]
  },
  {
   "cell_type": "code",
   "execution_count": null,
   "id": "04ca5b46",
   "metadata": {},
   "outputs": [],
   "source": [
    "# Run this line if you want to get some help infos:\n",
    "??implot"
   ]
  },
  {
   "cell_type": "code",
   "execution_count": null,
   "id": "9bbd1129",
   "metadata": {},
   "outputs": [],
   "source": []
  },
  {
   "cell_type": "code",
   "execution_count": null,
   "id": "bf1f5f95",
   "metadata": {},
   "outputs": [],
   "source": [
    "# !pip install pysnptools"
   ]
  },
  {
   "cell_type": "code",
   "execution_count": null,
   "id": "ab8db4fa",
   "metadata": {},
   "outputs": [],
   "source": []
  },
  {
   "cell_type": "code",
   "execution_count": null,
   "id": "10d3ae0b",
   "metadata": {},
   "outputs": [],
   "source": []
  },
  {
   "cell_type": "code",
   "execution_count": null,
   "id": "3237076e",
   "metadata": {},
   "outputs": [],
   "source": []
  },
  {
   "cell_type": "code",
   "execution_count": null,
   "id": "32c59087",
   "metadata": {},
   "outputs": [],
   "source": []
  },
  {
   "cell_type": "code",
   "execution_count": null,
   "id": "33a4b326",
   "metadata": {},
   "outputs": [],
   "source": []
  },
  {
   "cell_type": "code",
   "execution_count": null,
   "id": "9bb075e1",
   "metadata": {},
   "outputs": [],
   "source": []
  },
  {
   "cell_type": "markdown",
   "id": "58f62939",
   "metadata": {},
   "source": [
    "# A level-1 title"
   ]
  },
  {
   "cell_type": "markdown",
   "id": "efbddd13",
   "metadata": {},
   "source": []
  },
  {
   "cell_type": "code",
   "execution_count": null,
   "id": "f8a13f6c",
   "metadata": {},
   "outputs": [],
   "source": []
  },
  {
   "cell_type": "markdown",
   "id": "feff09f8",
   "metadata": {},
   "source": [
    "kjegrjkegr text text textkjegrjkegr text text textkjegrjkegr text text textkjegrjkegr text text text"
   ]
  },
  {
   "cell_type": "code",
   "execution_count": null,
   "id": "b15fd011",
   "metadata": {},
   "outputs": [],
   "source": []
  },
  {
   "cell_type": "markdown",
   "id": "98e69198",
   "metadata": {},
   "source": [
    "### level 3 thing"
   ]
  },
  {
   "cell_type": "code",
   "execution_count": null,
   "id": "2763137b",
   "metadata": {},
   "outputs": [],
   "source": []
  },
  {
   "cell_type": "markdown",
   "id": "2b52f694",
   "metadata": {},
   "source": [
    "kjegrjkegr text text textkjegrjkegr te"
   ]
  },
  {
   "cell_type": "markdown",
   "id": "5b5e013c",
   "metadata": {},
   "source": [
    "#### A level 4 thing"
   ]
  },
  {
   "cell_type": "code",
   "execution_count": null,
   "id": "d9a8dcf0",
   "metadata": {},
   "outputs": [],
   "source": []
  },
  {
   "cell_type": "code",
   "execution_count": null,
   "id": "fab45105",
   "metadata": {},
   "outputs": [],
   "source": []
  },
  {
   "cell_type": "markdown",
   "id": "8346c029",
   "metadata": {},
   "source": [
    "kjegrjkegr text text textkjegrjkegr text text textkjegrjkegr text text textkjegrjkegr text text text"
   ]
  },
  {
   "cell_type": "code",
   "execution_count": null,
   "id": "ce4d34cb",
   "metadata": {},
   "outputs": [],
   "source": []
  },
  {
   "cell_type": "markdown",
   "id": "1597353e",
   "metadata": {},
   "source": [
    "### level 3 thing -2"
   ]
  },
  {
   "cell_type": "code",
   "execution_count": null,
   "id": "f8f62e6d",
   "metadata": {},
   "outputs": [],
   "source": []
  },
  {
   "cell_type": "code",
   "execution_count": null,
   "id": "8afefb2e",
   "metadata": {},
   "outputs": [],
   "source": []
  },
  {
   "cell_type": "markdown",
   "id": "2b9c0b65",
   "metadata": {},
   "source": [
    "text text textkjegrjkegr text text textkjegrjkegr text text tex\n"
   ]
  },
  {
   "cell_type": "code",
   "execution_count": null,
   "id": "fadec2b2",
   "metadata": {},
   "outputs": [],
   "source": []
  }
 ],
 "metadata": {
  "kernelspec": {
   "display_name": "python3",
   "language": "python",
   "name": "python3"
  }
 },
 "nbformat": 4,
 "nbformat_minor": 5
}
