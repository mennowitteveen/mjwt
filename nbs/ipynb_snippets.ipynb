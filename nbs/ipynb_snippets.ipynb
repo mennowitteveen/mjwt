{
 "cells": [
  {
   "cell_type": "code",
   "execution_count": null,
   "id": "fb312bd6",
   "metadata": {},
   "outputs": [],
   "source": []
  },
  {
   "cell_type": "markdown",
   "id": "895a5a05",
   "metadata": {},
   "source": [
    "# hurrdurr ipynb snips\n",
    "\n",
    "> Creating a blog with notebooks\n",
    "- order: 5"
   ]
  },
  {
   "cell_type": "code",
   "execution_count": null,
   "id": "b66540bf",
   "metadata": {},
   "outputs": [],
   "source": []
  },
  {
   "cell_type": "code",
   "execution_count": null,
   "id": "0e62b2f6",
   "metadata": {},
   "outputs": [
    {
     "name": "stdout",
     "output_type": "stream",
     "text": [
      "stuff\n"
     ]
    }
   ],
   "source": [
    "import numpy\n",
    "print('stuff')"
   ]
  },
  {
   "cell_type": "code",
   "execution_count": null,
   "id": "3e34a1f3",
   "metadata": {},
   "outputs": [],
   "source": []
  },
  {
   "cell_type": "markdown",
   "id": "a2c3329e",
   "metadata": {},
   "source": [
    "Oke this is a bunch of test text"
   ]
  },
  {
   "cell_type": "code",
   "execution_count": null,
   "id": "a2db91c8",
   "metadata": {},
   "outputs": [],
   "source": []
  },
  {
   "cell_type": "code",
   "execution_count": null,
   "id": "54f9e623",
   "metadata": {},
   "outputs": [],
   "source": []
  }
 ],
 "metadata": {
  "kernelspec": {
   "display_name": "python3",
   "language": "python",
   "name": "python3"
  }
 },
 "nbformat": 4,
 "nbformat_minor": 5
}
